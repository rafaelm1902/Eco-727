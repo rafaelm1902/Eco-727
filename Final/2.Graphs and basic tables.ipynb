{
 "cells": [
  {
   "cell_type": "markdown",
   "metadata": {},
   "source": [
    "# Creating Summary stats tables and graphs"
   ]
  },
  {
   "cell_type": "code",
   "execution_count": 1,
   "metadata": {},
   "outputs": [
    {
     "name": "stdout",
     "output_type": "stream",
     "text": [
      "C:\\Users\\Rafael\\Eco 727 - Project\\Analysis\n"
     ]
    }
   ],
   "source": [
    "cd"
   ]
  },
  {
   "cell_type": "code",
   "execution_count": 2,
   "metadata": {},
   "outputs": [],
   "source": [
    "%set graph_format svg --permanently\n",
    "\n"
   ]
  },
  {
   "cell_type": "code",
   "execution_count": 3,
   "metadata": {},
   "outputs": [
    {
     "name": "stdout",
     "output_type": "stream",
     "text": [
      "\n",
      "\n",
      "\n",
      "Contains data from ..\\Data\\cps2.dta\n",
      "  obs:     4,543,785                          \n",
      " vars:            53                          25 Jan 2022 19:20\n",
      " size:   627,042,330                          \n",
      "--------------------------------------------------------------------------------\n",
      "              storage   display    value\n",
      "variable name   type    format     label      variable label\n",
      "--------------------------------------------------------------------------------\n",
      "year            int     %8.0g                 survey year\n",
      "serial          long    %12.0g                household serial number\n",
      "month           byte    %8.0g      MONTH      month\n",
      "hwtfinl         double  %12.0g                household weight, basic monthly\n",
      "cpsid           double  %12.0g                cpsid, household record\n",
      "asecflag        byte    %8.0g      ASECFLAG   flag for asec\n",
      "mish            byte    %8.0g      MISH       month in sample, household level\n",
      "region          byte    %8.0g      REGION     region and division\n",
      "metro           byte    %8.0g      METRO      metropolitan central city status\n",
      "pernum          byte    %8.0g                 person number in sample unit\n",
      "wtfinl          double  %12.0g                final basic weight\n",
      "cpsidp          double  %12.0g                cpsid, person record\n",
      "relate          int     %8.0g      RELATE     relationship to household head\n",
      "age             byte    %8.0g      AGE        age\n",
      "sex             byte    %8.0g      SEX        sex\n",
      "race            int     %8.0g      RACE       race\n",
      "marst           byte    %8.0g      MARST      marital status\n",
      "hispan          int     %8.0g      HISPAN     hispanic origin\n",
      "empstat         byte    %8.0g      EMPSTAT    employment status\n",
      "labforce        byte    %8.0g      LABFORCE   labor force status\n",
      "classwkr        byte    %8.0g      CLASSWKR   class of worker\n",
      "uhrsworkt       int     %8.0g      UHRSWORKT\n",
      "                                              hours usually worked per week at\n",
      "                                                all jobs\n",
      "uhrswork1       int     %8.0g      UHRSWORK1\n",
      "                                              hours usually worked per week at\n",
      "                                                main job\n",
      "wkstat          byte    %63.0g     WKSTAT     full or part time status\n",
      "grade           float   %9.0g      GRADE      highest grade completed\n",
      "educ            int     %8.0g      EDUC       educational attainment recode\n",
      "higrade         int     %8.0g      HIGRADE    highest grade of school\n",
      "earnwt          double  %12.0g                earnings weight\n",
      "qearnwee        byte    %8.0g      QEARNWEE   data quality flag for earnweek\n",
      "hourwage        double  %12.0g                hourly wage\n",
      "union           byte    %8.0g      UNION      union membership\n",
      "earnweek        double  %12.0g                weekly earnings\n",
      "uhrsworkorg     int     %8.0g                 usual hours worked per week,\n",
      "                                                outgoing rotation groups\n",
      "eligorg         byte    %8.0g      ELIGORG    (earnings) eligibility flag\n",
      "cpi             double  %10.0g     CPI        monthly cpi\n",
      "occupation      byte    %39.0g     OCCUP      occupation (1-10), 1990 basis\n",
      "industry        byte    %45.0g     INDUST     industry (1-13), 1990 basis\n",
      "topcode_earnw~k byte    %9.0g      TOPCODE    top Coded Values of weekly\n",
      "                                                earnings\n",
      "real_weekly_w~e float   %9.0g      RWWAGE     real weekly wage, Dec2020 dollars\n",
      "log_rwage       float   %9.0g      LOGWAGE     log of real weekly wage\n",
      "black           byte    %9.0g      BLACK      black race\n",
      "white           byte    %9.0g      WHITE      white race\n",
      "female          byte    %9.0g      FEMALE     female\n",
      "age_squared     int     %9.0g      AGESQR     age squared\n",
      "experience      float   %9.0g      EXPERIENCE\n",
      "                                              experience squared\n",
      "experience_sq~d float   %9.0g      EXPERIENSQR\n",
      "                                              \n",
      "birthyear       int     %9.0g      BIRTHYEAR\n",
      "                                              birthyear\n",
      "married         byte    %9.0g      MARRIED    married\n",
      "single          byte    %9.0g      SINGLE     never married/single\n",
      "in_metro        byte    %9.0g      INMETRO    resides in metro area\n",
      "highschool      byte    %9.0g      HSDIPLOMA\n",
      "                                              high school diploma\n",
      "bachelors       byte    %9.0g      BACHELORS\n",
      "                                              bachelor's degree\n",
      "advancedegree   byte    %9.0g      ADVANDEGREE\n",
      "                                              master's/professional/doctorate\n",
      "                                                degree\n",
      "--------------------------------------------------------------------------------\n",
      "Sorted by: \n",
      "\n",
      "\n",
      "    Variable |        Obs        Mean    Std. Dev.       Min        Max\n",
      "-------------+---------------------------------------------------------\n",
      "        year |  4,543,785    1999.885    11.25799       1982       2020\n",
      "      serial |  4,543,785    34733.95    20218.13          1      74624\n",
      "       month |  4,543,785    6.508832    3.454892          1         12\n",
      "     hwtfinl |  3,598,573     2133.35    1163.542          0   34716.21\n",
      "       cpsid |  4,543,785    2.00e+13    1.12e+11   1.98e+13   2.02e+13\n",
      "-------------+---------------------------------------------------------\n",
      "    asecflag |    376,916           2           0          2          2\n",
      "        mish |  4,543,785    6.006275     1.99999          4          8\n",
      "      region |  4,543,785    26.93982    10.56949         11         42\n",
      "       metro |  4,103,294    2.385815    .9570676          1          4\n",
      "      pernum |  4,543,785    1.592057      .86784          1         22\n",
      "-------------+---------------------------------------------------------\n",
      "      wtfinl |  4,543,785    2066.953    1149.187      22.24   34716.21\n",
      "      cpsidp |  4,543,785    2.00e+13    1.12e+11   1.98e+13   2.02e+13\n",
      "      relate |  4,543,785    233.2658    279.6828        101       1260\n",
      "         age |  4,543,785    39.45745    11.72581         18         64\n",
      "         sex |  4,543,785    1.435319    .4957988          1          2\n",
      "-------------+---------------------------------------------------------\n",
      "        race |  4,543,785    110.3926    30.51647        100        200\n",
      "       marst |  4,543,785    2.693803    2.183694          1          7\n",
      "      hispan |  4,543,785    30.63242    123.8374          0        902\n",
      "     empstat |  4,543,785     10.0368    .2687989         10         12\n",
      "    labforce |  4,543,785           2           0          2          2\n",
      "-------------+---------------------------------------------------------\n",
      "    classwkr |  4,543,785    22.62568     2.14044         13         28\n",
      "   uhrsworkt |  2,919,565    92.43531    211.0783         35        997\n",
      "   uhrswork1 |  4,543,785    69.31731     158.543          0        997\n",
      "      wkstat |  4,543,785    10.64254    .4792518         10         11\n",
      "       grade |  4,543,785    13.48514    2.606622          0         18\n",
      "-------------+---------------------------------------------------------\n",
      "        educ |  4,543,785    85.94442    23.06461          2        125\n",
      "     higrade |  1,358,203    161.0388    26.76562          0        210\n",
      "      earnwt |  4,543,785    8264.868    4601.888      90.01   133411.1\n",
      "    qearnwee |  2,735,647    1.315316    1.879151          0          4\n",
      "    hourwage |  4,543,785    461.2222    491.5728        .01     999.99\n",
      "-------------+---------------------------------------------------------\n",
      "       union |  4,280,071    1.186482    .4325809          1          3\n",
      "    earnweek |  4,543,785    706.6487    529.1028         53    2884.61\n",
      " uhrsworkorg |  3,598,573    504.7679    478.7685          1        999\n",
      "     eligorg |  4,543,785           1           0          1          1\n",
      "         cpi |  4,543,785    173.0303    49.45039       94.3    260.474\n",
      "-------------+---------------------------------------------------------\n",
      "  occupation |  4,543,785    4.851989    2.779604          1          9\n",
      "    industry |  4,543,785     7.77444    3.525187          1         13\n",
      "topcode_ea~k |  4,543,785    .0243467     .154123          0          1\n",
      "real_weekl~e |  4,543,785    1044.094    650.3768   145.0007   4649.542\n",
      "   log_rwage |  4,543,785    6.784769    .5712777   4.976738   8.444524\n"
     ]
    },
    {
     "name": "stdout",
     "output_type": "stream",
     "text": [
      "-------------+---------------------------------------------------------\n",
      "       black |  4,543,785    .1039261    .3051647          0          1\n",
      "       white |  4,543,785    .8960739    .3051647          0          1\n",
      "      female |  4,543,785     .435319    .4957988          0          1\n",
      " age_squared |  4,543,785    1694.385    956.6561        324       4096\n",
      "  experience |  4,543,785    19.97448    11.91775          0         58\n",
      "-------------+---------------------------------------------------------\n",
      "experience~d |  4,543,785    541.0123    529.3152          0       3364\n",
      "   birthyear |  4,543,785    1959.927    14.95969       1917       2002\n",
      "     married |  4,543,785     .606468    .4885331          0          1\n",
      "      single |  4,543,785    .2455193    .4303947          0          1\n",
      "    in_metro |  4,543,785    .7885851     .408312          0          1\n",
      "-------------+---------------------------------------------------------\n",
      "  highschool |  4,543,785    .3491745    .4767093          0          1\n",
      "   bachelors |  4,543,785    .1937438    .3952305          0          1\n",
      "advancedeg~e |  4,543,785    .0971336    .2961396          0          1\n"
     ]
    }
   ],
   "source": [
    "use \"..\\Data\\cps2\"\n",
    "describe\n",
    "summarize"
   ]
  },
  {
   "cell_type": "markdown",
   "metadata": {},
   "source": [
    "###  We create a table for median wages in 2019. We split this table between 4-year college grads and none college grads"
   ]
  },
  {
   "cell_type": "code",
   "execution_count": 4,
   "metadata": {},
   "outputs": [
    {
     "name": "stdout",
     "output_type": "stream",
     "text": [
      "\n",
      "\n",
      "(4,071,567 missing values generated)\n",
      "\n",
      "(472,218 missing values generated)\n",
      "\n",
      "(4,071,567 missing values generated)\n",
      "\n",
      "(472,218 missing values generated)\n"
     ]
    }
   ],
   "source": [
    "gen yearly_income = real_weekly_wage * 52 // We compute annual earnings as the real weekly wage times 52 weeks in a year\n",
    "gen black_yearly_wages = yearly_income if inlist(black, 1)\n",
    "gen white_yearly_wages = yearly_income if inlist(black, 0)\n",
    "\n",
    "gen black_weekly_wages = real_weekly_wage if inlist(black, 1)\n",
    "gen white_weekly_wages = real_weekly_wage if inlist(black, 0)"
   ]
  },
  {
   "cell_type": "code",
   "execution_count": 5,
   "metadata": {},
   "outputs": [
    {
     "name": "stdout",
     "output_type": "stream",
     "text": [
      "checking estout consistency and verifying not already installed...\n",
      "all files already exist and are up to date.\n"
     ]
    }
   ],
   "source": [
    "ssc install estout, replace"
   ]
  },
  {
   "cell_type": "code",
   "execution_count": 6,
   "metadata": {},
   "outputs": [
    {
     "name": "stdout",
     "output_type": "stream",
     "text": [
      "\n",
      "\n",
      "Summary statistics: p50\n",
      "     for variables: white_yearly_wages black_yearly_wages\n",
      "\n",
      "             |    e(p50) \n",
      "-------------+-----------\n",
      "white_year~s |  64773.93 \n",
      "black_year~s |  52793.71 \n",
      "\n",
      "\n",
      "Summary statistics: p50\n",
      "     for variables: white_yearly_wages black_yearly_wages\n",
      "\n",
      "             |    e(p50) \n",
      "-------------+-----------\n",
      "white_year~s |  40986.89 \n",
      "black_year~s |  33733.28 \n",
      "\n",
      "\n",
      "-------------------------------------------------------\n",
      "        name | command      depvar       npar  title \n",
      "-------------+-----------------------------------------\n",
      "   graduates | estpost      no depvar       0  \n",
      "nongraduates | estpost      no depvar       0  \n",
      "-------------------------------------------------------\n"
     ]
    }
   ],
   "source": [
    "/* Creating a table for annual median incomes in 2019*/\n",
    "\n",
    "** Four-year college graduates\n",
    "eststo graduates:estpost tabstat white_yearly_wages black_yearly_wages if inlist(year, 2019) & grade == 16, stats(median) columns(statistics)\n",
    "\n",
    "** Non-college graduates\n",
    "eststo nongraduates:estpost tabstat white_yearly_wages black_yearly_wages if inlist(year, 2019) & grade < 16, stats(median) columns(statistics)\n",
    "\n",
    "eststo dir"
   ]
  },
  {
   "cell_type": "code",
   "execution_count": 7,
   "metadata": {},
   "outputs": [
    {
     "name": "stdout",
     "output_type": "stream",
     "text": [
      "\n",
      "--------------------------------------------\n",
      "             Four-year ~s    Non-colleg~s   \n",
      "--------------------------------------------\n",
      "White Indi~s       64,774          40,987   \n",
      "                                            \n",
      "\n",
      "Black Indi~s       52,794          33,733   \n",
      "                                            \n",
      "--------------------------------------------\n",
      "SOURCE: Current Population Survey and author's calculations\n"
     ]
    }
   ],
   "source": [
    "esttab graduates nongraduates, replace noobs nonumbers nonote main(p50 %12.0fc) ///\n",
    "mtitles (\" Four-year college graduates\" \"Non-college graduates\") ///  \n",
    "/*label title(\"Median Income in 2019\") */ /// We put the tittle on overleaf\n",
    "coeflabels( white_yearly_wages \"White Individuals\" black_yearly_wages \"Black Individuals\" ) ///\n",
    "addnotes(\"SOURCE: Current Population Survey and author's calculations\")"
   ]
  },
  {
   "cell_type": "code",
   "execution_count": 8,
   "metadata": {},
   "outputs": [
    {
     "name": "stdout",
     "output_type": "stream",
     "text": [
      "(output written to Results/table_1.tex)\n"
     ]
    }
   ],
   "source": [
    "esttab graduates nongraduates using Results/table_1.tex, replace booktabs noobs nonumbers nonote main(p50 %12.0fc) ///\n",
    "mtitles (\" Four-year college graduates\" \"Non-college graduates\") ///  \n",
    "/*label title(\"Median Income in 2019\") */ /// We put the tittle on overleaf\n",
    "coeflabels( white_yearly_wages \"White Individuals\" black_yearly_wages \"Black Individuals\") ///\n",
    "addnotes(\"SOURCE: Current Population Survey and author's calculations\")"
   ]
  },
  {
   "cell_type": "markdown",
   "metadata": {},
   "source": [
    "# Line Graphs"
   ]
  },
  {
   "cell_type": "code",
   "execution_count": null,
   "metadata": {},
   "outputs": [],
   "source": [
    "collapse (mean) black_weekly_wages white_weekly_wages (p50)black_yearly_wages (p50) white_yearly_wages, by(year)\n",
    "describe\n",
    "list"
   ]
  },
  {
   "cell_type": "markdown",
   "metadata": {},
   "source": [
    "### We graph the median annual income from 1982-2020"
   ]
  },
  {
   "cell_type": "code",
   "execution_count": 10,
   "metadata": {},
   "outputs": [],
   "source": [
    "/*We graph the median annual income from 1982-2020*/\n",
    "generate y=year-1\n",
    "line black_yearly_wage y, lcolor(midblue) || line white_yearly_wage y, lcolor(midgreen) ///\n",
    "xtitle(Year) xlabel(1980(10)2020) /// \n",
    "ytitle(\"Median Annual Income ($)\", axis(1)) ylabel(30000(5000)55000, angle(0) noticks axis(1)) ///\n",
    "text(50000 2008 \"White individuals\") text(39500 2002 \"Black individuals\") ///\n",
    "graphregion(color(white)) ///\n",
    "legend(off) xsize(5.75) ysize(3.5) name(fig1a, replace)\n",
    "graph export \"..\\Analysis\\Results\\graph_1.pdf\", as(pdf) replace\n"
   ]
  },
  {
   "cell_type": "markdown",
   "metadata": {},
   "source": [
    "### We graph the Black-White Log-Wage Differential "
   ]
  },
  {
   "cell_type": "code",
   "execution_count": null,
   "metadata": {},
   "outputs": [],
   "source": [
    "/* We graph the Black-White Log-Wage Differential */\n",
    "generate logdiff = (log(white_weekly_wage) - log(black_weekly_wage)) * 100 \n",
    "line logdiff y, lcolor(edkblue) xtitle(Year) xlabel(1980(10)2020) ///\n",
    "ytitle(\"Black-White Log-Wage Differential (%) \", axis(1)) ylabel(18(2)28, angle(0) noticks axis(1)) ///\n",
    "graphregion(color(white)) legend(off) xsize(5.75) ysize(3.25)\n",
    "graph export \"..\\Analysis\\Results\\graph_2.pdf\", as(pdf) replace"
   ]
  },
  {
   "cell_type": "code",
   "execution_count": null,
   "metadata": {},
   "outputs": [],
   "source": []
  }
 ],
 "metadata": {
  "kernelspec": {
   "display_name": "Stata",
   "language": "stata",
   "name": "stata"
  },
  "language_info": {
   "codemirror_mode": "stata",
   "file_extension": ".do",
   "mimetype": "text/x-stata",
   "name": "stata",
   "version": "15.1"
  }
 },
 "nbformat": 4,
 "nbformat_minor": 4
}

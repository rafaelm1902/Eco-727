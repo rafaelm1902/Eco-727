{
 "cells": [
  {
   "cell_type": "markdown",
   "metadata": {},
   "source": [
    "\n",
    "\n",
    "# Exercise One - Reasearch Methods"
   ]
  },
  {
   "cell_type": "markdown",
   "metadata": {},
   "source": [
    "## 3. Use and Explore the Data in Stata"
   ]
  },
  {
   "cell_type": "code",
   "execution_count": 1,
   "metadata": {},
   "outputs": [
    {
     "name": "stdout",
     "output_type": "stream",
     "text": [
      "C:\\Users\\Rafael\\Eco 727 - Research Methods\\Analysis\n"
     ]
    }
   ],
   "source": [
    "cd "
   ]
  },
  {
   "cell_type": "code",
   "execution_count": 2,
   "metadata": {},
   "outputs": [],
   "source": [
    " use \"C:\\Users\\Rafael\\Eco 727 - Research Methods\\Data\\cps_00002.dta\""
   ]
  },
  {
   "cell_type": "markdown",
   "metadata": {},
   "source": [
    "### Tabulate mish, eligorg, and labforce. "
   ]
  },
  {
   "cell_type": "code",
   "execution_count": 3,
   "metadata": {
    "scrolled": true
   },
   "outputs": [
    {
     "name": "stdout",
     "output_type": "stream",
     "text": [
      "\n",
      "-> tabulation of mish  \n",
      "\n",
      "   month in |\n",
      "    sample, |\n",
      "  household |\n",
      "      level |      Freq.     Percent        Cum.\n",
      "------------+-----------------------------------\n",
      "        one |     82,939        1.23        1.23\n",
      "        two |     83,727        1.24        2.46\n",
      "      three |     83,525        1.23        3.70\n",
      "       four |  3,126,792       46.21       49.90\n",
      "       five |     83,941        1.24       51.14\n",
      "        six |     84,009        1.24       52.39\n",
      "      seven |     83,888        1.24       53.62\n",
      "      eight |  3,138,231       46.38      100.00\n",
      "------------+-----------------------------------\n",
      "      Total |  6,767,052      100.00\n",
      "\n",
      "-> tabulation of eligorg  \n",
      "\n",
      "  (earnings) |\n",
      " eligibility |\n",
      "        flag |      Freq.     Percent        Cum.\n",
      "-------------+-----------------------------------\n",
      "    eligible |  6,767,052      100.00      100.00\n",
      "-------------+-----------------------------------\n",
      "       Total |  6,767,052      100.00\n",
      "\n",
      "-> tabulation of labforce  \n",
      "\n",
      "        labor force status |      Freq.     Percent        Cum.\n",
      "---------------------------+-----------------------------------\n",
      "   yes, in the labor force |  6,767,052      100.00      100.00\n",
      "---------------------------+-----------------------------------\n",
      "                     Total |  6,767,052      100.00\n"
     ]
    }
   ],
   "source": [
    "tab1 mish eligorg labforce "
   ]
  },
  {
   "cell_type": "markdown",
   "metadata": {},
   "source": [
    "### Which rotation groups don’t belong in these data?"
   ]
  },
  {
   "cell_type": "markdown",
   "metadata": {},
   "source": [
    "If we look at the tabulation of mish, we can observe that all rotation groups except for 4 and 8 don't belong in these data. "
   ]
  },
  {
   "cell_type": "markdown",
   "metadata": {},
   "source": [
    "### The wrong rotation groups are from what year or years?"
   ]
  },
  {
   "cell_type": "markdown",
   "metadata": {},
   "source": [
    "To find out the year from where the wrong rotation groups are from, we can tabulate mish by year to observe in what year these observations are recorded.  "
   ]
  },
  {
   "cell_type": "code",
   "execution_count": 4,
   "metadata": {},
   "outputs": [
    {
     "name": "stdout",
     "output_type": "stream",
     "text": [
      "\n",
      "  month in |\n",
      "   sample, |\n",
      " household |                      survey year\n",
      "     level |      1982       1983       1984       1985       1986 |     Total\n",
      "-----------+-------------------------------------------------------+----------\n",
      "       one |    82,939          0          0          0          0 |    82,939 \n",
      "       two |    83,727          0          0          0          0 |    83,727 \n",
      "     three |    83,525          0          0          0          0 |    83,525 \n",
      "      four |    83,073     82,847     84,024     85,677     85,364 |   420,985 \n",
      "      five |    83,941          0          0          0          0 |    83,941 \n",
      "       six |    84,009          0          0          0          0 |    84,009 \n",
      "     seven |    83,888          0          0          0          0 |    83,888 \n",
      "     eight |    83,577     82,328     84,427     85,937     84,902 |   421,171 \n",
      "-----------+-------------------------------------------------------+----------\n",
      "     Total |   668,679    165,175    168,451    171,614    170,266 | 1,344,185 \n"
     ]
    }
   ],
   "source": [
    "tab mish year if inrange(year, 1982, 1986)"
   ]
  },
  {
   "cell_type": "markdown",
   "metadata": {},
   "source": [
    "We can see that the wrong rotation groups are from year 1982. As such we only keep 4 and 8.  "
   ]
  },
  {
   "cell_type": "markdown",
   "metadata": {},
   "source": [
    "### If mish isn’t 4 or 8, drop these observations"
   ]
  },
  {
   "cell_type": "code",
   "execution_count": 5,
   "metadata": {},
   "outputs": [
    {
     "name": "stdout",
     "output_type": "stream",
     "text": [
      "(502,029 observations deleted)\n"
     ]
    }
   ],
   "source": [
    "keep if mish==4|mish==8"
   ]
  },
  {
   "cell_type": "code",
   "execution_count": 6,
   "metadata": {},
   "outputs": [
    {
     "name": "stdout",
     "output_type": "stream",
     "text": [
      "\n",
      "   month in |\n",
      "    sample, |\n",
      "  household |\n",
      "      level |      Freq.     Percent        Cum.\n",
      "------------+-----------------------------------\n",
      "       four |  3,126,792       49.91       49.91\n",
      "      eight |  3,138,231       50.09      100.00\n",
      "------------+-----------------------------------\n",
      "      Total |  6,265,023      100.00\n"
     ]
    }
   ],
   "source": [
    "tabulate mish"
   ]
  },
  {
   "cell_type": "markdown",
   "metadata": {},
   "source": [
    "Once we tabulate mish again, we see that we only keep the rotation groups we wanted."
   ]
  },
  {
   "cell_type": "markdown",
   "metadata": {},
   "source": [
    "### (a) Describing the data set"
   ]
  },
  {
   "cell_type": "code",
   "execution_count": 7,
   "metadata": {},
   "outputs": [
    {
     "name": "stdout",
     "output_type": "stream",
     "text": [
      "\n",
      "Contains data from C:\\Users\\Rafael\\Eco 727 - Research Methods\\Data\\cps_00002.dta\n",
      "  obs:     6,265,023                          \n",
      " vars:            29                          05 JAN 2021 23:48\n",
      "--------------------------------------------------------------------------------\n",
      "              storage   display    value\n",
      "variable name   type    format     label      variable label\n",
      "--------------------------------------------------------------------------------\n",
      "year            int     %8.0g                 survey year\n",
      "serial          long    %12.0g                household serial number\n",
      "month           byte    %8.0g      MONTH      month\n",
      "hwtfinl         double  %12.0g                household weight, basic monthly\n",
      "cpsid           double  %12.0g                cpsid, household record\n",
      "asecflag        byte    %8.0g      ASECFLAG   flag for asec\n",
      "mish            byte    %8.0g      MISH       month in sample, household level\n",
      "region          byte    %8.0g      REGION     region and division\n",
      "pernum          byte    %8.0g                 person number in sample unit\n",
      "wtfinl          double  %12.0g                final basic weight\n",
      "cpsidp          double  %12.0g                cpsid, person record\n",
      "age             byte    %8.0g      AGE        age\n",
      "sex             byte    %8.0g      SEX        sex\n",
      "race            int     %8.0g      RACE       race\n",
      "empstat         byte    %8.0g      EMPSTAT    employment status\n",
      "labforce        byte    %8.0g      LABFORCE   labor force status\n",
      "occ1950         int     %8.0g      OCC1950    occupation, 1950 basis\n",
      "ind1950         int     %8.0g      IND1950    industry, 1950 basis\n",
      "classwkr        byte    %8.0g      CLASSWKR   class of worker\n",
      "uhrswork1       int     %8.0g      UHRSWORK1\n",
      "                                              hours usually worked per week at\n",
      "                                                main job\n",
      "educ            int     %8.0g      EDUC       educational attainment recode\n",
      "earnwt          double  %12.0g                earnings weight\n",
      "qearnwee        byte    %8.0g      QEARNWEE   data quality flag for earnweek\n",
      "hourwage        double  %12.0g                hourly wage\n",
      "paidhour        byte    %8.0g      PAIDHOUR   paid by the hour\n",
      "union           byte    %8.0g      UNION      union membership\n",
      "earnweek        double  %12.0g                weekly earnings\n",
      "uhrsworkorg     int     %8.0g                 usual hours worked per week,\n",
      "                                                outgoing rotation groups\n",
      "eligorg         byte    %8.0g      ELIGORG    (earnings) eligibility flag\n",
      "--------------------------------------------------------------------------------\n",
      "Sorted by: \n",
      "     Note: Dataset has changed since last saved.\n"
     ]
    }
   ],
   "source": [
    "describe"
   ]
  },
  {
   "cell_type": "markdown",
   "metadata": {},
   "source": [
    "We can see that we have roughly 6.26 million observations on 29 variables. "
   ]
  },
  {
   "cell_type": "markdown",
   "metadata": {},
   "source": [
    "### (b) Listing 5 observations of 8-10 variables at a time"
   ]
  },
  {
   "cell_type": "code",
   "execution_count": 8,
   "metadata": {},
   "outputs": [
    {
     "name": "stdout",
     "output_type": "stream",
     "text": [
      "\n",
      "\n",
      "  +--------------------------------------------------------------------+\n",
      "  | year   serial     month   hwtfinl         cpsid   asecflag    mish |\n",
      "  |--------------------------------------------------------------------|\n",
      "  | 1982        5   january         .   1.98110e+13          .    four |\n",
      "  | 1982        5   january         .   1.98110e+13          .    four |\n",
      "  | 1982        7   january         .   1.98110e+13          .    four |\n",
      "  | 1982       10   january         .   1.98010e+13          .   eight |\n",
      "  | 1982       10   january         .   1.98010e+13          .   eight |\n",
      "  +--------------------------------------------------------------------+\n",
      "\n",
      "\n",
      "  +----------------------------------------------------------------------------+\n",
      "  |   region   pernum    wtfinl        cpsidp   age      sex    race   empstat |\n",
      "  |----------------------------------------------------------------------------|\n",
      "  | west nor        1   1009.79   1.98110e+13    52     male   white   at work |\n",
      "  | west nor        2    1080.6   1.98110e+13    46   female   white   at work |\n",
      "  |  pacific        2   1761.78   1.98110e+13    36   female   white   at work |\n",
      "  | south at        1   1727.47   1.98010e+13    42     male   white   at work |\n",
      "  | south at        2   1587.88   1.98010e+13    39   female   white   at work |\n",
      "  +----------------------------------------------------------------------------+\n",
      "\n",
      "\n",
      "  +---------------------------------------------------------------------------+\n",
      "  | labforce    occ1950    ind1950   classwkr   uhrswo~1       educ    earnwt |\n",
      "  |---------------------------------------------------------------------------|\n",
      "  |  yes, in   managers    welfare   wage/sal         60   6+ years   4117.09 |\n",
      "  |  yes, in   teachers   educatio   wage/sal         40   6+ years   4377.56 |\n",
      "  |  yes, in   professi   miscella   wage/sal         40    5 years   6998.68 |\n",
      "  |  yes, in   insuranc   insuranc   wage/sal         38   6+ years   7003.06 |\n",
      "  |  yes, in   technici    medical   wage/sal         45    4 years   6307.86 |\n",
      "  +---------------------------------------------------------------------------+\n",
      "\n",
      "\n",
      "  +-------------------------------------------------------------------------+\n",
      "  | qearnwee   hourwage   paidhour   union   earnweek   uhrswo~g    eligorg |\n",
      "  |-------------------------------------------------------------------------|\n",
      "  |        .     999.99         no       .        800          .   eligible |\n",
      "  |        .     999.99         no       .        350          .   eligible |\n",
      "  |        .     999.99         no       .        675          .   eligible |\n",
      "  |        .     999.99         no       .        580          .   eligible |\n",
      "  |        .         17        yes       .        800          .   eligible |\n",
      "  +-------------------------------------------------------------------------+\n"
     ]
    }
   ],
   "source": [
    "list year-mish in 1/5, noobs\n",
    "list region-empstat in 1/5, noobs\n",
    "list labforce-earnwt in 1/5, noobs\n",
    "list qearnwee-eligorg in 1/5, noobs"
   ]
  },
  {
   "cell_type": "markdown",
   "metadata": {},
   "source": [
    "Based on the listings, we can observe that a lot of the variables have missing observations. Variables such as: hwtfinl, asecflag, qearnwee, etc. "
   ]
  },
  {
   "cell_type": "markdown",
   "metadata": {},
   "source": [
    "### (c) Summarizing the data"
   ]
  },
  {
   "cell_type": "code",
   "execution_count": 9,
   "metadata": {},
   "outputs": [
    {
     "name": "stdout",
     "output_type": "stream",
     "text": [
      "\n",
      "    Variable |        Obs        Mean    Std. Dev.       Min        Max\n",
      "-------------+---------------------------------------------------------\n",
      "        year |  6,265,023    2000.534    11.13821       1982       2020\n",
      "      serial |  6,265,023     34528.6    20251.51          1      74625\n",
      "       month |  6,265,023    6.506208     3.45006          1         12\n",
      "     hwtfinl |  5,087,446    2129.075    1180.058          0   34716.21\n",
      "       cpsid |  6,265,023    2.00e+13    1.11e+11   1.98e+13   2.02e+13\n",
      "-------------+---------------------------------------------------------\n",
      "    asecflag |    518,026           2           0          2          2\n",
      "        mish |  6,265,023    6.003652    1.999997          4          8\n",
      "      region |  6,265,023    27.22327    10.76149         11         42\n",
      "      pernum |  6,265,023    1.676862     .937971          1         22\n",
      "      wtfinl |  6,265,023    2075.533    1173.679      22.24   34716.21\n",
      "-------------+---------------------------------------------------------\n",
      "      cpsidp |  6,265,023    2.00e+13    1.11e+11   1.98e+13   2.02e+13\n",
      "         age |  6,265,023    38.90224    12.18609         18         64\n",
      "         sex |  6,265,023     1.48772    .4998492          1          2\n",
      "        race |  6,265,023    140.9901    130.4777        100        830\n",
      "     empstat |  6,265,023    10.08441    .4021093         10         12\n",
      "-------------+---------------------------------------------------------\n",
      "    labforce |  6,265,023           2           0          2          2\n",
      "     occ1950 |  6,265,023    423.6337    267.0798          0        970\n",
      "     ind1950 |  6,265,023    675.0786    222.2674        105        936\n",
      "    classwkr |  6,265,023    22.66399    2.136998         13         28\n",
      "   uhrswork1 |  6,265,023    77.88384    189.0939          0        997\n",
      "-------------+---------------------------------------------------------\n",
      "        educ |  6,265,023    85.57656    23.02693          2        125\n",
      "      earnwt |  6,265,023    8298.545    4701.556      90.01   133411.1\n",
      "    qearnwee |  3,964,865    1.263251    1.859355          0          4\n",
      "    hourwage |  6,265,023     417.041    485.8136        .01     999.99\n",
      "    paidhour |  6,265,023    1.590414    .4917575          1          2\n",
      "-------------+---------------------------------------------------------\n",
      "       union |  5,933,198    1.174121     .421369          0          3\n",
      "    earnweek |  6,265,023    654.7771    630.3508        .01    9999.99\n",
      " uhrsworkorg |  5,087,446    483.7177    479.9359          1        999\n",
      "     eligorg |  6,265,023           1           0          1          1\n"
     ]
    }
   ],
   "source": [
    "summarize"
   ]
  },
  {
   "cell_type": "markdown",
   "metadata": {},
   "source": [
    "Based on the summary we can see that that some variables have missing observations as well as see that some variable don't have any variability from looking at their standard deviations."
   ]
  },
  {
   "cell_type": "markdown",
   "metadata": {},
   "source": [
    "### (d) Tabulating the categorical variables"
   ]
  },
  {
   "cell_type": "code",
   "execution_count": 10,
   "metadata": {},
   "outputs": [
    {
     "name": "stdout",
     "output_type": "stream",
     "text": [
      "\n",
      "-> tabulation of region  \n",
      "\n",
      "        region and division |      Freq.     Percent        Cum.\n",
      "----------------------------+-----------------------------------\n",
      "       new england division |    591,859        9.45        9.45\n",
      "   middle atlantic division |    752,144       12.01       21.45\n",
      "east north central division |    861,009       13.74       35.20\n",
      "west north central division |    655,772       10.47       45.66\n",
      "    south atlantic division |  1,074,806       17.16       62.82\n",
      "east south central division |    315,910        5.04       67.86\n",
      "west south central division |    537,229        8.58       76.44\n",
      "          mountain division |    650,937       10.39       86.83\n",
      "           pacific division |    825,357       13.17      100.00\n",
      "----------------------------+-----------------------------------\n",
      "                      Total |  6,265,023      100.00\n",
      "\n",
      "-> tabulation of sex  \n",
      "\n",
      "        sex |      Freq.     Percent        Cum.\n",
      "------------+-----------------------------------\n",
      "       male |  3,209,449       51.23       51.23\n",
      "     female |  3,055,574       48.77      100.00\n",
      "------------+-----------------------------------\n",
      "      Total |  6,265,023      100.00\n",
      "\n",
      "-> tabulation of race  \n",
      "\n",
      "                                   race |      Freq.     Percent        Cum.\n",
      "----------------------------------------+-----------------------------------\n",
      "                                  white |  5,292,589       84.48       84.48\n",
      "                            black/negro |    599,787        9.57       94.05\n",
      "           american indian/aleut/eskimo |     50,600        0.81       94.86\n",
      "              asian or pacific islander |     58,384        0.93       95.79\n",
      "                             asian only |    159,307        2.54       98.33\n",
      "         hawaiian/pacific islander only |     12,233        0.20       98.53\n",
      "             other (single) race, n.e.c |     45,931        0.73       99.26\n",
      "                            white-black |      8,435        0.13       99.40\n",
      "                  white-american indian |     18,460        0.29       99.69\n",
      "                            white-asian |      7,405        0.12       99.81\n",
      "        white-hawaiian/pacific islander |      2,345        0.04       99.85\n",
      "                  black-american indian |      2,172        0.03       99.88\n",
      "                            black-asian |        587        0.01       99.89\n",
      "        black-hawaiian/pacific islander |        160        0.00       99.89\n",
      "                  american indian-asian |        147        0.00       99.90\n",
      "        asian-hawaiian/pacific islander |      2,262        0.04       99.93\n",
      "            white-black-american indian |      1,270        0.02       99.95\n",
      "                      white-black-asian |        136        0.00       99.96\n",
      "            white-american indian-asian |        211        0.00       99.96\n",
      "  white-asian-hawaiian/pacific islander |      1,870        0.03       99.99\n",
      "      white-black-american indian-asian |         62        0.00       99.99\n",
      "american indian-hawaiian/pacific island |         57        0.00       99.99\n",
      " white-black--hawaiian/pacific islander |         53        0.00       99.99\n",
      "white-american indian-hawaiian/pacific  |         55        0.00       99.99\n",
      "            black-american indian-asian |         13        0.00       99.99\n",
      "white-american indian-asian-hawaiian/pa |          9        0.00       99.99\n",
      "        two or three races, unspecified |        340        0.01      100.00\n",
      "        four or five races, unspecified |        143        0.00      100.00\n",
      "----------------------------------------+-----------------------------------\n",
      "                                  Total |  6,265,023      100.00\n",
      "\n",
      "-> tabulation of empstat  \n",
      "\n",
      "             employment status |      Freq.     Percent        Cum.\n",
      "-------------------------------+-----------------------------------\n",
      "                       at work |  6,000,613       95.78       95.78\n",
      "has job, not at work last week |    264,410        4.22      100.00\n",
      "-------------------------------+-----------------------------------\n",
      "                         Total |  6,265,023      100.00\n",
      "\n",
      "-> tabulation of classwkr  \n",
      "\n",
      "                class of worker |      Freq.     Percent        Cum.\n",
      "--------------------------------+-----------------------------------\n",
      "self-employed, not incorporated |          2        0.00        0.00\n",
      "           wage/salary, private |  1,656,623       26.44       26.44\n",
      "            private, for profit |  3,213,388       51.29       77.73\n",
      "             private, nonprofit |    298,737        4.77       82.50\n",
      "        wage/salary, government |     31,948        0.51       83.01\n",
      "    federal government employee |    204,369        3.26       86.27\n",
      "      state government employee |    318,912        5.09       91.36\n",
      "      local government employee |    541,044        8.64      100.00\n",
      "--------------------------------+-----------------------------------\n",
      "                          Total |  6,265,023      100.00\n",
      "\n",
      "-> tabulation of educ  \n",
      "\n",
      "          educational attainment recode |      Freq.     Percent        Cum.\n",
      "----------------------------------------+-----------------------------------\n",
      "                      none or preschool |     11,309        0.18        0.18\n",
      "                   grades 1, 2, 3, or 4 |     19,651        0.31        0.49\n",
      "                                grade 1 |        827        0.01        0.51\n",
      "                                grade 2 |      2,023        0.03        0.54\n",
      "                                grade 3 |      3,228        0.05        0.59\n",
      "                                grade 4 |      4,010        0.06        0.66\n",
      "                          grades 5 or 6 |     46,348        0.74        1.39\n",
      "                                grade 5 |      5,261        0.08        1.48\n",
      "                                grade 6 |     13,252        0.21        1.69\n",
      "                          grades 7 or 8 |     47,427        0.76        2.45\n",
      "                                grade 7 |     11,324        0.18        2.63\n",
      "                                grade 8 |     37,861        0.60        3.23\n",
      "                                grade 9 |     91,124        1.45        4.69\n",
      "                               grade 10 |    125,669        2.01        6.69\n",
      "                               grade 11 |    165,810        2.65        9.34\n",
      "                 12th grade, no diploma |     49,811        0.80       10.13\n",
      "            12th grade, diploma unclear |    642,040       10.25       20.38\n",
      "      high school diploma or equivalent |  1,441,651       23.01       43.39\n",
      "                      1 year of college |    134,820        2.15       45.55\n",
      "             some college but no degree |    904,609       14.44       59.98\n",
      "                     2 years of college |    168,063        2.68       62.67\n",
      "associate's degree, occupational/vocati |    225,952        3.61       66.27\n",
      "   associate's degree, academic program |    232,242        3.71       69.98\n",
      "                     3 years of college |     63,319        1.01       70.99\n",
      "                     4 years of college |    229,636        3.67       74.66\n",
      "                      bachelor's degree |    949,397       15.15       89.81\n",
      "                     5 years of college |     45,334        0.72       90.53\n",
      "                    6+ years of college |    110,245        1.76       92.29\n",
      "                        master's degree |    357,491        5.71       98.00\n",
      "             professional school degree |     62,137        0.99       98.99\n",
      "                       doctorate degree |     63,152        1.01      100.00\n",
      "----------------------------------------+-----------------------------------\n",
      "                                  Total |  6,265,023      100.00\n",
      "\n",
      "-> tabulation of qearnwee  \n",
      "\n",
      " data quality |\n",
      "     flag for |\n",
      "     earnweek |      Freq.     Percent        Cum.\n",
      "--------------+-----------------------------------\n",
      "not allocated |  2,712,710       68.42       68.42\n",
      "    allocated |  1,252,155       31.58      100.00\n",
      "--------------+-----------------------------------\n",
      "        Total |  3,964,865      100.00\n",
      "\n",
      "-> tabulation of paidhour  \n",
      "\n",
      "paid by the |\n",
      "       hour |      Freq.     Percent        Cum.\n",
      "------------+-----------------------------------\n",
      "         no |  2,566,068       40.96       40.96\n",
      "        yes |  3,698,955       59.04      100.00\n"
     ]
    },
    {
     "name": "stdout",
     "output_type": "stream",
     "text": [
      "------------+-----------------------------------\n",
      "      Total |  6,265,023      100.00\n",
      "\n",
      "-> tabulation of union  \n",
      "\n",
      "                 union membership |      Freq.     Percent        Cum.\n",
      "----------------------------------+-----------------------------------\n",
      "                              niu |         16        0.00        0.00\n",
      "                no union coverage |  5,000,173       84.27       84.27\n",
      "            member of labor union |    832,906       14.04       98.31\n",
      "covered by union but not a member |    100,103        1.69      100.00\n",
      "----------------------------------+-----------------------------------\n",
      "                            Total |  5,933,198      100.00\n"
     ]
    }
   ],
   "source": [
    "tab1 region sex race empstat classwkr educ qearnwee paidhour union \n"
   ]
  },
  {
   "cell_type": "markdown",
   "metadata": {},
   "source": [
    "### Confirming the structure of the data"
   ]
  },
  {
   "cell_type": "code",
   "execution_count": 11,
   "metadata": {},
   "outputs": [
    {
     "name": "stdout",
     "output_type": "stream",
     "text": [
      "\n",
      "           |   month in sample,\n",
      "           |    household level\n",
      "     month |      four      eight |     Total\n",
      "-----------+----------------------+----------\n",
      "   january |   260,270    261,606 |   521,876 \n",
      "  february |   261,872    261,726 |   523,598 \n",
      "     march |   258,948    259,078 |   518,026 \n",
      "     april |   259,600    258,855 |   518,455 \n",
      "       may |   258,330    257,839 |   516,169 \n",
      "      june |   261,958    261,951 |   523,909 \n",
      "      july |   261,346    263,884 |   525,230 \n",
      "    august |   260,687    262,905 |   523,592 \n",
      " september |   260,444    262,688 |   523,132 \n",
      "   october |   263,670    265,440 |   529,110 \n",
      "  november |   263,095    264,376 |   527,471 \n",
      "  december |   256,572    257,883 |   514,455 \n",
      "-----------+----------------------+----------\n",
      "     Total | 3,126,792  3,138,231 | 6,265,023 \n"
     ]
    }
   ],
   "source": [
    "tabulate month mish"
   ]
  },
  {
   "cell_type": "markdown",
   "metadata": {},
   "source": [
    "We confirm the structure of the data by computing cross-tabulations of month and rotation group (mish)."
   ]
  },
  {
   "cell_type": "markdown",
   "metadata": {},
   "source": [
    "### Dropping variables "
   ]
  },
  {
   "cell_type": "code",
   "execution_count": 12,
   "metadata": {},
   "outputs": [],
   "source": [
    "drop asecflag \n",
    "drop labforce \n",
    "drop eligorg"
   ]
  },
  {
   "cell_type": "markdown",
   "metadata": {},
   "source": [
    "We drop these variables as they don't vary."
   ]
  },
  {
   "cell_type": "markdown",
   "metadata": {},
   "source": [
    "### Finding year American Indians and Asians were first included in race"
   ]
  },
  {
   "cell_type": "markdown",
   "metadata": {},
   "source": [
    "To find in what year are American Indians and Asians first included in race, we can tabulate race by year to observe in what year these observations were first recorded.  "
   ]
  },
  {
   "cell_type": "code",
   "execution_count": 13,
   "metadata": {
    "scrolled": true
   },
   "outputs": [
    {
     "name": "stdout",
     "output_type": "stream",
     "text": [
      "\n",
      "                      |                 survey year\n",
      "                 race |      1982       1983       1984       1985 |     Total\n",
      "----------------------+--------------------------------------------+----------\n",
      "                white |   146,627    145,099    147,612    150,014 | 1,621,413 \n",
      "          black/negro |    14,669     14,722     15,322     16,027 |   173,954 \n",
      "american indian/aleut |         0          0          0          0 |     5,383 \n",
      "asian or pacific isla |         0          0          0          0 |    20,267 \n",
      "other (single) race,  |     5,354      5,354      5,517      5,573 |    40,683 \n",
      "----------------------+--------------------------------------------+----------\n",
      "                Total |   166,650    165,175    168,451    171,614 | 1,861,700 \n",
      "\n",
      "\n",
      "                      |                 survey year\n",
      "                 race |      1986       1987       1988       1989 |     Total\n",
      "----------------------+--------------------------------------------+----------\n",
      "                white |   148,277    148,758    142,956    145,665 | 1,621,413 \n",
      "          black/negro |    16,274     16,685     15,764     15,917 |   173,954 \n",
      "american indian/aleut |         0          0          0      1,274 |     5,383 \n",
      "asian or pacific isla |         0          0          0      4,420 |    20,267 \n",
      "other (single) race,  |     5,715      5,804      5,454        336 |    40,683 \n",
      "----------------------+--------------------------------------------+----------\n",
      "                Total |   170,266    171,247    164,174    167,612 | 1,861,700 \n",
      "\n",
      "\n",
      "                      |           survey year\n",
      "                 race |      1990       1991       1992 |     Total\n",
      "----------------------+---------------------------------+----------\n",
      "                white |   152,628    148,002    145,775 | 1,621,413 \n",
      "          black/negro |    16,739     16,077     15,758 |   173,954 \n",
      "american indian/aleut |     1,331      1,375      1,403 |     5,383 \n",
      "asian or pacific isla |     5,130      5,303      5,414 |    20,267 \n",
      "other (single) race,  |       427        539        610 |    40,683 \n",
      "----------------------+---------------------------------+----------\n",
      "                Total |   176,255    171,296    168,960 | 1,861,700 \n"
     ]
    }
   ],
   "source": [
    "tab race year if inrange(year, 1982, 1992)"
   ]
  },
  {
   "cell_type": "markdown",
   "metadata": {},
   "source": [
    "We can observe that American Indians and Asians were first included in race in 1989."
   ]
  },
  {
   "cell_type": "markdown",
   "metadata": {},
   "source": [
    "## 4. Clean the data"
   ]
  },
  {
   "cell_type": "markdown",
   "metadata": {},
   "source": [
    "### Addressing the coding of missing observations"
   ]
  },
  {
   "cell_type": "code",
   "execution_count": 14,
   "metadata": {},
   "outputs": [
    {
     "name": "stdout",
     "output_type": "stream",
     "text": [
      "\n",
      "(0 real changes made)\n",
      "\n",
      "(0 real changes made)\n",
      "\n",
      "(0 real changes made)\n",
      "\n",
      "(0 real changes made)\n",
      "\n",
      "(0 real changes made)\n",
      "\n",
      "(0 real changes made)\n",
      "\n",
      "(0 real changes made)\n",
      "\n",
      "(0 real changes made)\n",
      "\n",
      "(253,746 real changes made, 253,746 to missing)\n",
      "\n",
      "(0 real changes made)\n",
      "\n",
      "(2,567,522 real changes made, 2,567,522 to missing)\n",
      "\n",
      "(0 real changes made)\n",
      "\n",
      "(16 real changes made, 16 to missing)\n",
      "\n",
      "(8,239 real changes made, 8,239 to missing)\n",
      "\n",
      "(2,362,969 real changes made, 2,362,969 to missing)\n"
     ]
    }
   ],
   "source": [
    "replace region=. if region==97\n",
    "replace sex=. if sex==9\n",
    "replace race=. if race==999\n",
    "replace empstat=. if empstat==00\n",
    "replace occ1950 =. if inlist(occ1950, 997, 999) // Unknown, Unemployed- last worked over x years ago\n",
    "replace ind1950=. if inlist(ind1950, 000, 997,998) // NIU, Nonclassifiable, Industry not reported\n",
    "replace classwkr=. if inlist(classwkr, 00, 99) // NIU, Missing/Unknown\n",
    "replace uhrswork1=. if uhrswork1==999 & inrange(year, 1989, 1993) // Missing/Unknown\n",
    "replace uhrswork1=. if inlist(uhrswork1, 997, 999) & year>=1994 // Hours vary, Missing/Unknown \n",
    "replace educ=. if inlist(educ, 000, 001, 999) // NIU or no schooling, NIU or blank, Missing/Unknown\n",
    "replace hourwage=. if hourwage == 999.99\n",
    "replace paidhour=. if paidhour==0\n",
    "replace union=. if union==0\n",
    "replace earnweek =. if earnweek == 9999.99\n",
    "replace uhrsworkorg=. if inlist(uhrsworkorg, 998, 999) // Don't Know, NIU "
   ]
  },
  {
   "cell_type": "markdown",
   "metadata": {},
   "source": [
    "### Recoding for consistency accross years"
   ]
  },
  {
   "cell_type": "code",
   "execution_count": 15,
   "metadata": {},
   "outputs": [],
   "source": [
    "global eyear=2020"
   ]
  },
  {
   "cell_type": "code",
   "execution_count": 16,
   "metadata": {},
   "outputs": [
    {
     "name": "stdout",
     "output_type": "stream",
     "text": [
      "\n",
      "\n",
      "\n",
      "          educational attainment recode |      Freq.     Percent        Cum.\n",
      "----------------------------------------+-----------------------------------\n",
      "                   2. none or preschool |     11,309        0.18        0.18\n",
      "               10. grades 1, 2, 3, or 4 |     19,651        0.31        0.49\n",
      "                            11. grade 1 |        827        0.01        0.51\n",
      "                            12. grade 2 |      2,023        0.03        0.54\n",
      "                            13. grade 3 |      3,228        0.05        0.59\n",
      "                            14. grade 4 |      4,010        0.06        0.66\n",
      "                      20. grades 5 or 6 |     46,348        0.74        1.39\n",
      "                            21. grade 5 |      5,261        0.08        1.48\n",
      "                            22. grade 6 |     13,252        0.21        1.69\n",
      "                      30. grades 7 or 8 |     47,427        0.76        2.45\n",
      "                            31. grade 7 |     11,324        0.18        2.63\n",
      "                            32. grade 8 |     37,861        0.60        3.23\n",
      "                            40. grade 9 |     91,124        1.45        4.69\n",
      "                           50. grade 10 |    125,669        2.01        6.69\n",
      "                           60. grade 11 |    165,810        2.65        9.34\n",
      "             71. 12th grade, no diploma |     49,811        0.80       10.13\n",
      "        72. 12th grade, diploma unclear |    642,040       10.25       20.38\n",
      "  73. high school diploma or equivalent |  1,441,651       23.01       43.39\n",
      "                  80. 1 year of college |    134,820        2.15       45.55\n",
      "         81. some college but no degree |    904,609       14.44       59.98\n",
      "                 90. 2 years of college |    168,063        2.68       62.67\n",
      "91. associate's degree, occupational/vo |    225,952        3.61       66.27\n",
      "92. associate's degree, academic progra |    232,242        3.71       69.98\n",
      "                100. 3 years of college |     63,319        1.01       70.99\n",
      "                110. 4 years of college |    229,636        3.67       74.66\n",
      "                 111. bachelor's degree |    949,397       15.15       89.81\n",
      "                121. 5 years of college |     45,334        0.72       90.53\n",
      "               122. 6+ years of college |    110,245        1.76       92.29\n",
      "                   123. master's degree |    357,491        5.71       98.00\n",
      "        124. professional school degree |     62,137        0.99       98.99\n",
      "                  125. doctorate degree |     63,152        1.01      100.00\n",
      "----------------------------------------+-----------------------------------\n",
      "                                  Total |  6,265,023      100.00\n"
     ]
    }
   ],
   "source": [
    "numlabel EDUC, add // to add code number for labels to help me with recoding educ.\n",
    "tabulate educ"
   ]
  },
  {
   "cell_type": "markdown",
   "metadata": {},
   "source": [
    "### Recoding Education"
   ]
  },
  {
   "cell_type": "markdown",
   "metadata": {},
   "source": [
    "We first recode the education variable educ to create the variable grade, which measures highest grade completed. We use Jaeger (1997) to transform degrees into grades."
   ]
  },
  {
   "cell_type": "code",
   "execution_count": 17,
   "metadata": {},
   "outputs": [
    {
     "name": "stdout",
     "output_type": "stream",
     "text": [
      "\n",
      "(6,265,023 missing values generated)\n",
      "\n",
      "(3,693 real changes made)\n",
      "\n",
      "(827 real changes made)\n",
      "\n",
      "(2,023 real changes made)\n",
      "\n",
      "(3,228 real changes made)\n",
      "\n",
      "(4,010 real changes made)\n",
      "\n",
      "(5,261 real changes made)\n",
      "\n",
      "(13,252 real changes made)\n",
      "\n",
      "(11,324 real changes made)\n",
      "\n",
      "(37,861 real changes made)\n",
      "\n",
      "(38,411 real changes made)\n",
      "\n",
      "(56,240 real changes made)\n",
      "\n",
      "(60,845 real changes made)\n",
      "\n",
      "(704,348 real changes made)\n",
      "\n",
      "(134,820 real changes made)\n",
      "\n",
      "(168,063 real changes made)\n",
      "\n",
      "(63,319 real changes made)\n",
      "\n",
      "(229,636 real changes made)\n",
      "\n",
      "(45,334 real changes made)\n",
      "\n",
      "(110,245 real changes made)\n",
      "\n",
      "(7,616 real changes made)\n",
      "\n",
      "(19,651 real changes made)\n",
      "\n",
      "(46,348 real changes made)\n",
      "\n",
      "(47,427 real changes made)\n",
      "\n",
      "(52,713 real changes made)\n",
      "\n",
      "(69,429 real changes made)\n",
      "\n",
      "(104,965 real changes made)\n",
      "\n",
      "(1,429,154 real changes made)\n",
      "\n",
      "(904,609 real changes made)\n",
      "\n",
      "(458,194 real changes made)\n",
      "\n",
      "(949,397 real changes made)\n",
      "\n",
      "(482,780 real changes made)\n",
      "\n"
     ]
    }
   ],
   "source": [
    "generate grade=.\n",
    "*** 1982-1991\n",
    "  replace grade=0  if educ==2 & year<=1991 // (none or preschool)\n",
    "  replace grade=1  if educ==11 & year<=1991\n",
    "  replace grade=2  if educ==12 & year<=1991\n",
    "  replace grade=3  if educ==13 & year<=1991\n",
    "  replace grade=4  if educ==14 & year<=1991\n",
    "  replace grade=5  if educ==21 & year<=1991\n",
    "  replace grade=6  if educ==22 & year<=1991\n",
    "  replace grade=7  if educ==31 & year<=1991\n",
    "  replace grade=8  if educ==32 & year<=1991\n",
    "  replace grade=9  if educ==40 & year<=1991\n",
    "  replace grade=10 if educ==50 & year<=1991\n",
    "  replace grade=11 if educ==60 & year<=1991\n",
    "  replace grade=12 if (educ==72 | educ==73) & year<=1991 // 72 is `diploma unclear'\n",
    "  replace grade=13 if educ==80 & year<=1991\n",
    "  replace grade=14 if educ==90 & year<=1991\n",
    "  replace grade=15 if educ==100 & year<=1991\n",
    "  replace grade=16 if educ==110 & year<=1991\n",
    "  replace grade=17 if educ==121 & year<=1991\n",
    "  replace grade=18 if educ==122 & year<=1991\n",
    "  \n",
    "  *** 1992-2109 (Jaeger 1997)\n",
    "  replace grade=0   if educ==2  & year>=1992\n",
    "  replace grade=2.5 if educ==10 & year>=1992 // grades 1-4\n",
    "  replace grade=5.5 if educ==20 & year>=1992 // grades 5-6\n",
    "  replace grade=7.5 if educ==30 & year>=1992 // grades 7-8\n",
    "  replace grade=9   if educ==40 & year>=1992 // grade 9\n",
    "  replace grade=10  if educ==50 & year>=1992 // grade 10\n",
    "  replace grade=11  if educ==60 & year>=1992 // grade 11\n",
    "  replace grade=12  if (educ==71 | educ==73) & year>=1992 // 71 is `no diploma'\n",
    "  replace grade=13  if educ==81 & year>=1992 // some college, no degree\n",
    "  replace grade=14  if (educ==91 | educ==92) & year>=1992 // academic or vocational associate's degree\n",
    "  replace grade=16  if educ==111 & year>=1992\n",
    "  replace grade=18  if inlist(educ, 123, 124, 125) & year>=1992\n",
    "  order grade, before(educ)"
   ]
  },
  {
   "cell_type": "markdown",
   "metadata": {},
   "source": [
    "### Recoding Occupation"
   ]
  },
  {
   "cell_type": "markdown",
   "metadata": {},
   "source": [
    "We procceed by recoding occupation. We generate occuply to replace occ1950 amd we code for 10 occupations."
   ]
  },
  {
   "cell_type": "code",
   "execution_count": 18,
   "metadata": {},
   "outputs": [
    {
     "name": "stdout",
     "output_type": "stream",
     "text": [
      "\n",
      "(6,265,023 missing values generated)\n",
      "\n",
      "(1,491,531 real changes made)\n",
      "\n",
      "(780,556 real changes made)\n",
      "\n",
      "(1,147,993 real changes made)\n",
      "\n",
      "(364,059 real changes made)\n",
      "\n",
      "(617,963 real changes made)\n",
      "\n",
      "(690,773 real changes made)\n",
      "\n",
      "(51,113 real changes made)\n",
      "\n",
      "(827,347 real changes made)\n",
      "\n",
      "(293,688 real changes made)\n",
      "\n",
      "(21,928 real changes made)\n",
      "\n",
      "no observations\n"
     ]
    }
   ],
   "source": [
    "generate occuply=.\n",
    "  \n",
    "  *** 1982-2020\n",
    "  replace occuply=1 if inrange(occ1950, 000, 099) & inrange(year, 1982, $eyear) // professional, technical\n",
    "  replace occuply=2 if inrange(occ1950, 100, 290) & inrange(year, 1982, $eyear) // managers, officials, propreitors\n",
    "  replace occuply=3 if inrange(occ1950, 300, 390) & inrange(year, 1982, $eyear) // clerical, kindred\n",
    "  replace occuply=4 if inrange(occ1950, 400, 490) & inrange(year, 1982, $eyear) // sales\n",
    "  replace occuply=5 if inrange(occ1950, 500, 594) & inrange(year, 1982, $eyear) // craftsmen\n",
    "  replace occuply=6 if inrange(occ1950, 600, 690) & inrange(year, 1982, $eyear) // operatives\n",
    "  replace occuply=7 if inrange(occ1950, 700, 720) & inrange(year, 1982, $eyear) // service (private hh)\n",
    "  replace occuply=8 if inrange(occ1950, 730, 790) & inrange(year, 1982, $eyear) // service (other)\n",
    "  replace occuply=9 if inrange(occ1950, 810, 970) & inrange(year, 1982, $eyear) // laborers\n",
    "  replace occuply=10 if occ1950==036              & inrange(year, 1982, $eyear) // editors and reporters\n",
    "  tab year occ1950 if occ1950~=. & occuply==. & inrange(year, 1982, $eyear)"
   ]
  },
  {
   "cell_type": "markdown",
   "metadata": {},
   "source": [
    "### Recoding Industry"
   ]
  },
  {
   "cell_type": "markdown",
   "metadata": {},
   "source": [
    "We procceed by recoding industry. We generate industly to replace ind1950 amd we code for 12 industries."
   ]
  },
  {
   "cell_type": "code",
   "execution_count": 19,
   "metadata": {},
   "outputs": [
    {
     "name": "stdout",
     "output_type": "stream",
     "text": [
      "\n",
      "(6,265,023 missing values generated)\n",
      "\n",
      "(152,383 real changes made)\n",
      "\n",
      "(357,177 real changes made)\n",
      "\n",
      "(594,329 real changes made)\n",
      "\n",
      "(382,442 real changes made)\n",
      "\n",
      "(365,320 real changes made)\n",
      "\n",
      "(203,873 real changes made)\n",
      "\n",
      "(1,020,359 real changes made)\n",
      "\n",
      "(412,657 real changes made)\n",
      "\n",
      "(702,448 real changes made)\n",
      "\n",
      "(187,940 real changes made)\n",
      "\n",
      "(779,792 real changes made)\n",
      "\n",
      "(400,396 real changes made)\n",
      "\n",
      "(705,907 real changes made)\n",
      "\n",
      "(313,932 real changes made)\n",
      "\n",
      "no observations\n"
     ]
    }
   ],
   "source": [
    "generate industly=.\n",
    "\n",
    "*** 1982-2019\n",
    "  replace industly=1 if inrange(ind1950, 105, 239) & inrange(year, 1982, $eyear) // agriculture, fisheries, mining\n",
    "  replace industly=2 if inrange(ind1950, 246, 246) & inrange(year, 1982, $eyear) // construction\n",
    "  replace industly=3 if inrange(ind1950, 306, 399) & inrange(year, 1982, $eyear) // durable manufacturing\n",
    "  replace industly=4 if inrange(ind1950, 406, 499) & inrange(year, 1982, $eyear) // nondurable manufacturing\n",
    "  replace industly=5 if inrange(ind1950, 506, 598) & inrange(year, 1982, $eyear) // communications, transportation, utilities\n",
    "  replace industly=6 if inrange(ind1950, 606, 627) & inrange(year, 1982, $eyear) // wholesale trade\n",
    "  replace industly=7 if inrange(ind1950, 636, 699) & inrange(year, 1982, $eyear) // retail trade\n",
    "  replace industly=8 if inrange(ind1950, 716, 746) & inrange(year, 1982, $eyear) // professional services, fire\n",
    "  replace industly=8 if inrange(ind1950, 868, 879) & inrange(year, 1982, $eyear) // professional services, fire\n",
    "  replace industly=8 if inrange(ind1950, 897, 899) & inrange(year, 1982, $eyear) // professional services, fire\n",
    "  replace industly=9 if inlist(ind1950, 888, 896)  & inrange(year, 1982, $eyear) // education, welfare services\n",
    "  replace industly=10 if inrange(ind1950, 906, 936) & inrange(year, 1982, $eyear) // public administration\n",
    "  replace industly=11 if inrange(ind1950, 806, 859) & inrange(year, 1982, $eyear) // Advertising, Miscellaneous entertainment and recreation services\n",
    "  replace industly=12 if ind1950==679              & inrange(year, 1982, $eyear) // Eating and drinking places\n",
    "  tab year ind1950 if ind1950~=. & industly==. & inrange(year, 1982, $eyear)"
   ]
  },
  {
   "cell_type": "markdown",
   "metadata": {},
   "source": [
    "We drop redudant variables"
   ]
  },
  {
   "cell_type": "code",
   "execution_count": 20,
   "metadata": {},
   "outputs": [],
   "source": [
    "drop occ1950\n",
    "drop ind1950"
   ]
  },
  {
   "cell_type": "markdown",
   "metadata": {},
   "source": [
    "We define labels for the occupation and industry variables "
   ]
  },
  {
   "cell_type": "code",
   "execution_count": 21,
   "metadata": {},
   "outputs": [],
   "source": [
    "  label define OCCUP 1 \"professional, technical\"  2  \"managers, officials, propreitors\"  3  \"clerical, kindred\" ///\n",
    "                     4 \"sales\"  5  \"craftsmen\"    6  \"operatives\"  7  \"service (private hh)\" ///\n",
    "                     8  \"service (other)\"         9  \"laborers\"   10 \"editors and reporters\"\n",
    "  label value occup OCCUP\n",
    "\n",
    "  label define INDUST 1 \"agriculture, fisheries, mining\"  2  \"construction\"  3  \"durable manufacturing\" ///\n",
    "                      4 \"nondurable manufacturing\"  5 \"communications, transportation, utilities\"  6  \"wholesale trade\" ///\n",
    "                      7 \"retail trade\"  8  \"professional services, fire\"  9 \"education, welfare services\" ///\n",
    "                     10 \"public administration\"  11 \"Advertising, Miscellaneous entertainment and recreation services\" 12 \"Eating and drinking places\"\n",
    "  label value indust INDUST"
   ]
  },
  {
   "cell_type": "markdown",
   "metadata": {},
   "source": [
    "We quickly tabulate occup and indust to see our results. "
   ]
  },
  {
   "cell_type": "code",
   "execution_count": 22,
   "metadata": {},
   "outputs": [
    {
     "name": "stdout",
     "output_type": "stream",
     "text": [
      "\n",
      "-> tabulation of occuply  \n",
      "\n",
      "                         occuply |      Freq.     Percent        Cum.\n",
      "---------------------------------+-----------------------------------\n",
      "         professional, technical |  1,469,603       23.46       23.46\n",
      "managers, officials, propreitors |    780,556       12.46       35.92\n",
      "               clerical, kindred |  1,147,993       18.32       54.24\n",
      "                           sales |    364,059        5.81       60.05\n",
      "                       craftsmen |    617,963        9.86       69.91\n",
      "                      operatives |    690,773       11.03       80.94\n",
      "            service (private hh) |     51,113        0.82       81.76\n",
      "                 service (other) |    827,347       13.21       94.96\n",
      "                        laborers |    293,688        4.69       99.65\n",
      "           editors and reporters |     21,928        0.35      100.00\n",
      "---------------------------------+-----------------------------------\n",
      "                           Total |  6,265,023      100.00\n",
      "\n",
      "-> tabulation of industly  \n",
      "\n",
      "                               industly |      Freq.     Percent        Cum.\n",
      "----------------------------------------+-----------------------------------\n",
      "         agriculture, fisheries, mining |    152,383        2.43        2.43\n",
      "                           construction |    357,177        5.70        8.13\n",
      "                  durable manufacturing |    594,329        9.49       17.62\n",
      "               nondurable manufacturing |    382,442        6.10       23.72\n",
      "communications, transportation, utiliti |    365,320        5.83       29.56\n",
      "                        wholesale trade |    203,873        3.25       32.81\n",
      "                           retail trade |    706,427       11.28       44.09\n",
      "            professional services, fire |  1,303,045       20.80       64.88\n",
      "            education, welfare services |    779,792       12.45       77.33\n",
      "                  public administration |    400,396        6.39       83.72\n",
      "Advertising, Miscellaneous entertainmen |    705,907       11.27       94.99\n",
      "             Eating and drinking places |    313,932        5.01      100.00\n",
      "----------------------------------------+-----------------------------------\n",
      "                                  Total |  6,265,023      100.00\n"
     ]
    }
   ],
   "source": [
    "tab1 occup indust"
   ]
  },
  {
   "cell_type": "markdown",
   "metadata": {},
   "source": [
    "###  Create a variable to identify top-coded values of earnweek"
   ]
  },
  {
   "cell_type": "code",
   "execution_count": 23,
   "metadata": {},
   "outputs": [
    {
     "name": "stdout",
     "output_type": "stream",
     "text": [
      "\n",
      "(6,265,023 missing values generated)\n",
      "\n",
      "(6,256,784 real changes made)\n",
      "\n",
      "(34,917 real changes made)\n",
      "\n",
      "(14,628 real changes made)\n",
      "\n",
      "(78,835 real changes made)\n",
      "\n",
      "\n",
      "\n",
      "\n",
      "\n",
      "           |    Top Coded Values of Weekly\n",
      "    survey |             Earnings\n",
      "      year | 0-Not Top  1-Top Cod          . |     Total\n",
      "-----------+---------------------------------+----------\n",
      "      1982 |   164,140      2,481         29 |   166,650 \n",
      "      1983 |   161,905      3,236         34 |   165,175 \n",
      "      1984 |   164,421      3,998         32 |   168,451 \n",
      "      1985 |   166,619      4,958         37 |   171,614 \n",
      "      1986 |   164,392      5,844         30 |   170,266 \n",
      "      1987 |   164,413      6,809         25 |   171,247 \n",
      "      1988 |   156,560      7,591         23 |   164,174 \n",
      "      1989 |   166,790        822          0 |   167,612 \n",
      "      1990 |   175,175      1,080          0 |   176,255 \n",
      "      1991 |   170,053      1,243          0 |   171,296 \n",
      "      1992 |   167,648      1,312          0 |   168,960 \n",
      "      1993 |   165,307      1,407          0 |   166,714 \n",
      "      1994 |   160,220      2,039        486 |   162,745 \n",
      "      1995 |   159,620      2,222        419 |   162,261 \n",
      "      1996 |   142,419      2,027        357 |   144,803 \n",
      "      1997 |   144,736      2,476        328 |   147,540 \n",
      "      1998 |   148,023        947        308 |   149,278 \n",
      "      1999 |   150,062      1,078        331 |   151,471 \n",
      "      2000 |   151,549      1,233        293 |   153,075 \n",
      "      2001 |   166,003      1,528        320 |   167,851 \n",
      "      2002 |   172,928      1,779        331 |   175,038 \n",
      "      2003 |   169,768      1,811        282 |   171,861 \n",
      "      2004 |   166,609      1,971        294 |   168,874 \n",
      "      2005 |   167,381      2,211        335 |   169,927 \n",
      "      2006 |   166,335      2,534        327 |   169,196 \n",
      "      2007 |   164,240      2,856        355 |   167,451 \n",
      "      2008 |   161,821      3,242        291 |   165,354 \n",
      "      2009 |   156,877      3,333        355 |   160,565 \n",
      "      2010 |   155,072      3,541        300 |   158,913 \n",
      "      2011 |   153,265      3,599        278 |   157,142 \n",
      "      2012 |   152,117      4,055        220 |   156,392 \n",
      "      2013 |   151,105      4,384        226 |   155,715 \n",
      "      2014 |   151,782      4,473        256 |   156,511 \n",
      "      2015 |   149,345      4,874        266 |   154,485 \n",
      "      2016 |   148,939      5,230        298 |   154,467 \n",
      "      2017 |   146,353      5,467        254 |   152,074 \n",
      "      2018 |   141,852      6,133        212 |   148,197 \n",
      "      2019 |   136,283      6,448        164 |   142,895 \n",
      "      2020 |   106,277      6,108        143 |   112,528 \n",
      "-----------+---------------------------------+----------\n",
      "     Total | 6,128,404    128,380      8,239 | 6,265,023 \n"
     ]
    }
   ],
   "source": [
    "gen topcode_earnweek = .\n",
    "replace topcode_earnweek = 0 if earnweek != . & inrange(year, 1982,$eyear)\n",
    "replace topcode_earnweek = 1 if earnweek == 999 & inrange(year, 1982, 1988)\n",
    "replace topcode_earnweek = 1 if earnweek== 1923 & inrange(year, 1989, 1997)\n",
    "replace topcode_earnweek = 1 if earnweek == 2884.61 & inrange(year, 1998,$eyear)\n",
    "label variable topcode_earnweek \"Top Coded Values of Weekly Earnings\" // To rewrite the heading\n",
    "label define TOPCODE_EARNWEEK 0 \"0-Not Top Coded\" 1 \"1-Top Coded\" // To rename labels, so it's not just 1 and 0 \n",
    "label value topcode_earnweek TOPCODE_EARNWEEK\n",
    "tab year topcode_earnweek, missing"
   ]
  },
  {
   "cell_type": "markdown",
   "metadata": {},
   "source": [
    "We replace the topcode variable to zero only if the earnweek varaible is not missing. As such the first line of the code incorporates this."
   ]
  },
  {
   "cell_type": "markdown",
   "metadata": {},
   "source": [
    "## 5. Explore the Edited Data"
   ]
  },
  {
   "cell_type": "markdown",
   "metadata": {},
   "source": [
    "### Describe, summarize, and tabulate variables in the edited data"
   ]
  },
  {
   "cell_type": "code",
   "execution_count": 24,
   "metadata": {},
   "outputs": [
    {
     "name": "stdout",
     "output_type": "stream",
     "text": [
      "\n",
      "Contains data from C:\\Users\\Rafael\\Eco 727 - Research Methods\\Data\\cps_00002.dta\n",
      "  obs:     6,265,023                          \n",
      " vars:            28                          05 JAN 2021 23:48\n",
      "--------------------------------------------------------------------------------\n",
      "              storage   display    value\n",
      "variable name   type    format     label      variable label\n",
      "--------------------------------------------------------------------------------\n",
      "year            int     %8.0g                 survey year\n",
      "serial          long    %12.0g                household serial number\n",
      "month           byte    %8.0g      MONTH      month\n",
      "hwtfinl         double  %12.0g                household weight, basic monthly\n",
      "cpsid           double  %12.0g                cpsid, household record\n",
      "mish            byte    %8.0g      MISH       month in sample, household level\n",
      "region          byte    %8.0g      REGION     region and division\n",
      "pernum          byte    %8.0g                 person number in sample unit\n",
      "wtfinl          double  %12.0g                final basic weight\n",
      "cpsidp          double  %12.0g                cpsid, person record\n",
      "age             byte    %8.0g      AGE        age\n",
      "sex             byte    %8.0g      SEX        sex\n",
      "race            int     %8.0g      RACE       race\n",
      "empstat         byte    %8.0g      EMPSTAT    employment status\n",
      "classwkr        byte    %8.0g      CLASSWKR   class of worker\n",
      "uhrswork1       int     %8.0g      UHRSWORK1\n",
      "                                              hours usually worked per week at\n",
      "                                                main job\n",
      "grade           float   %9.0g                 \n",
      "educ            int     %55.0g     EDUC       educational attainment recode\n",
      "earnwt          double  %12.0g                earnings weight\n",
      "qearnwee        byte    %8.0g      QEARNWEE   data quality flag for earnweek\n",
      "hourwage        double  %12.0g                hourly wage\n",
      "paidhour        byte    %8.0g      PAIDHOUR   paid by the hour\n",
      "union           byte    %8.0g      UNION      union membership\n",
      "earnweek        double  %12.0g                weekly earnings\n",
      "uhrsworkorg     int     %8.0g                 usual hours worked per week,\n",
      "                                                outgoing rotation groups\n",
      "occuply         float   %32.0g     OCCUP      \n",
      "industly        float   %64.0g     INDUST     \n",
      "topcode_earnw~k float   %15.0g     TOPCODE_EARNWEEK\n",
      "                                              Top Coded Values of Weekly\n",
      "                                                Earnings\n",
      "--------------------------------------------------------------------------------\n",
      "Sorted by: \n",
      "     Note: Dataset has changed since last saved.\n"
     ]
    }
   ],
   "source": [
    "describe"
   ]
  },
  {
   "cell_type": "markdown",
   "metadata": {},
   "source": [
    "This time around we have roughly 2.65 million observations with 28 variables. We can see that we added the variable topcode_earnweek."
   ]
  },
  {
   "cell_type": "code",
   "execution_count": 25,
   "metadata": {},
   "outputs": [
    {
     "name": "stdout",
     "output_type": "stream",
     "text": [
      "\n",
      "    Variable |        Obs        Mean    Std. Dev.       Min        Max\n",
      "-------------+---------------------------------------------------------\n",
      "        year |  6,265,023    2000.534    11.13821       1982       2020\n",
      "      serial |  6,265,023     34528.6    20251.51          1      74625\n",
      "       month |  6,265,023    6.506208     3.45006          1         12\n",
      "     hwtfinl |  5,087,446    2129.075    1180.058          0   34716.21\n",
      "       cpsid |  6,265,023    2.00e+13    1.11e+11   1.98e+13   2.02e+13\n",
      "-------------+---------------------------------------------------------\n",
      "        mish |  6,265,023    6.003652    1.999997          4          8\n",
      "      region |  6,265,023    27.22327    10.76149         11         42\n",
      "      pernum |  6,265,023    1.676862     .937971          1         22\n",
      "      wtfinl |  6,265,023    2075.533    1173.679      22.24   34716.21\n",
      "      cpsidp |  6,265,023    2.00e+13    1.11e+11   1.98e+13   2.02e+13\n",
      "-------------+---------------------------------------------------------\n",
      "         age |  6,265,023    38.90224    12.18609         18         64\n",
      "         sex |  6,265,023     1.48772    .4998492          1          2\n",
      "        race |  6,265,023    140.9901    130.4777        100        830\n",
      "     empstat |  6,265,023    10.08441    .4021093         10         12\n",
      "    classwkr |  6,265,023    22.66399    2.136998         13         28\n",
      "-------------+---------------------------------------------------------\n",
      "   uhrswork1 |  6,011,277    39.08641     10.0633          0         99\n",
      "       grade |  6,265,023    13.44299    2.609735          0         18\n",
      "        educ |  6,265,023    85.57656    23.02693          2        125\n",
      "      earnwt |  6,265,023    8298.545    4701.556      90.01   133411.1\n",
      "    qearnwee |  3,964,865    1.263251    1.859355          0          4\n",
      "-------------+---------------------------------------------------------\n",
      "    hourwage |  3,697,501    12.24473    8.157193        .01      99.99\n",
      "    paidhour |  6,265,023    1.590414    .4917575          1          2\n",
      "       union |  5,933,182    1.174124    .4213652          1          3\n",
      "    earnweek |  6,256,784    642.4712    531.7074        .01    2884.61\n",
      " uhrsworkorg |  2,724,477    36.80775    10.01274          1         99\n",
      "-------------+---------------------------------------------------------\n",
      "     occuply |  6,265,023    3.991114    2.610869          1         10\n",
      "    industly |  6,265,023    7.207145    2.987903          1         12\n",
      "topcode_ea~k |  6,256,784    .0205185    .1417657          0          1\n"
     ]
    }
   ],
   "source": [
    "summarize"
   ]
  },
  {
   "cell_type": "markdown",
   "metadata": {},
   "source": [
    "Once we summarize the data we can observe the varaible that we edited and how they changed. For example for the variable grade we can see that it ranges from 0 to 18. "
   ]
  },
  {
   "cell_type": "code",
   "execution_count": 26,
   "metadata": {},
   "outputs": [
    {
     "name": "stdout",
     "output_type": "stream",
     "text": [
      "\n",
      "-> tabulation of mish  \n",
      "\n",
      "   month in |\n",
      "    sample, |\n",
      "  household |\n",
      "      level |      Freq.     Percent        Cum.\n",
      "------------+-----------------------------------\n",
      "       four |  3,126,792       49.91       49.91\n",
      "      eight |  3,138,231       50.09      100.00\n",
      "------------+-----------------------------------\n",
      "      Total |  6,265,023      100.00\n",
      "\n",
      "-> tabulation of grade  \n",
      "\n",
      "      grade |      Freq.     Percent        Cum.\n",
      "------------+-----------------------------------\n",
      "          0 |     11,309        0.18        0.18\n",
      "          1 |        827        0.01        0.19\n",
      "          2 |      2,023        0.03        0.23\n",
      "        2.5 |     19,651        0.31        0.54\n",
      "          3 |      3,228        0.05        0.59\n",
      "          4 |      4,010        0.06        0.66\n",
      "          5 |      5,261        0.08        0.74\n",
      "        5.5 |     46,348        0.74        1.48\n",
      "          6 |     13,252        0.21        1.69\n",
      "          7 |     11,324        0.18        1.87\n",
      "        7.5 |     47,427        0.76        2.63\n",
      "          8 |     37,861        0.60        3.23\n",
      "          9 |     91,124        1.45        4.69\n",
      "         10 |    125,669        2.01        6.69\n",
      "         11 |    165,810        2.65        9.34\n",
      "         12 |  2,133,502       34.05       43.39\n",
      "         13 |  1,039,429       16.59       59.98\n",
      "         14 |    626,257       10.00       69.98\n",
      "         15 |     63,319        1.01       70.99\n",
      "         16 |  1,179,033       18.82       89.81\n",
      "         17 |     45,334        0.72       90.53\n",
      "         18 |    593,025        9.47      100.00\n",
      "------------+-----------------------------------\n",
      "      Total |  6,265,023      100.00\n",
      "\n",
      "-> tabulation of occuply  \n",
      "\n",
      "                         occuply |      Freq.     Percent        Cum.\n",
      "---------------------------------+-----------------------------------\n",
      "         professional, technical |  1,469,603       23.46       23.46\n",
      "managers, officials, propreitors |    780,556       12.46       35.92\n",
      "               clerical, kindred |  1,147,993       18.32       54.24\n",
      "                           sales |    364,059        5.81       60.05\n",
      "                       craftsmen |    617,963        9.86       69.91\n",
      "                      operatives |    690,773       11.03       80.94\n",
      "            service (private hh) |     51,113        0.82       81.76\n",
      "                 service (other) |    827,347       13.21       94.96\n",
      "                        laborers |    293,688        4.69       99.65\n",
      "           editors and reporters |     21,928        0.35      100.00\n",
      "---------------------------------+-----------------------------------\n",
      "                           Total |  6,265,023      100.00\n",
      "\n",
      "-> tabulation of industly  \n",
      "\n",
      "                               industly |      Freq.     Percent        Cum.\n",
      "----------------------------------------+-----------------------------------\n",
      "         agriculture, fisheries, mining |    152,383        2.43        2.43\n",
      "                           construction |    357,177        5.70        8.13\n",
      "                  durable manufacturing |    594,329        9.49       17.62\n",
      "               nondurable manufacturing |    382,442        6.10       23.72\n",
      "communications, transportation, utiliti |    365,320        5.83       29.56\n",
      "                        wholesale trade |    203,873        3.25       32.81\n",
      "                           retail trade |    706,427       11.28       44.09\n",
      "            professional services, fire |  1,303,045       20.80       64.88\n",
      "            education, welfare services |    779,792       12.45       77.33\n",
      "                  public administration |    400,396        6.39       83.72\n",
      "Advertising, Miscellaneous entertainmen |    705,907       11.27       94.99\n",
      "             Eating and drinking places |    313,932        5.01      100.00\n",
      "----------------------------------------+-----------------------------------\n",
      "                                  Total |  6,265,023      100.00\n"
     ]
    }
   ],
   "source": [
    "tab1 mish grade occuply industly "
   ]
  },
  {
   "cell_type": "markdown",
   "metadata": {},
   "source": [
    "Here we tabulate some of the varaibles we created in order to check for consistency."
   ]
  },
  {
   "cell_type": "markdown",
   "metadata": {},
   "source": [
    "### What percentage of weekly wage observations are top coded?"
   ]
  },
  {
   "cell_type": "code",
   "execution_count": 27,
   "metadata": {},
   "outputs": [
    {
     "name": "stdout",
     "output_type": "stream",
     "text": [
      "\n",
      "      Top Coded |\n",
      "      Values of |\n",
      "Weekly Earnings |      Freq.     Percent        Cum.\n",
      "----------------+-----------------------------------\n",
      "0-Not Top Coded |  6,128,404       97.82       97.82\n",
      "    1-Top Coded |    128,380        2.05       99.87\n",
      "              . |      8,239        0.13      100.00\n",
      "----------------+-----------------------------------\n",
      "          Total |  6,265,023      100.00\n"
     ]
    }
   ],
   "source": [
    "tab topcode_earnweek, missing"
   ]
  },
  {
   "cell_type": "markdown",
   "metadata": {},
   "source": [
    "We see that in the total data set, 2.05 percent of weekly wages are top coded."
   ]
  },
  {
   "cell_type": "markdown",
   "metadata": {},
   "source": [
    "### In what year is top-coding of earnweek most common?"
   ]
  },
  {
   "cell_type": "code",
   "execution_count": 28,
   "metadata": {},
   "outputs": [
    {
     "name": "stdout",
     "output_type": "stream",
     "text": [
      "\n",
      "           |    Top Coded Values of Weekly\n",
      "    survey |             Earnings\n",
      "      year | 0-Not Top  1-Top Cod          . |     Total\n",
      "-----------+---------------------------------+----------\n",
      "      1982 |   164,140      2,481         29 |   166,650 \n",
      "      1983 |   161,905      3,236         34 |   165,175 \n",
      "      1984 |   164,421      3,998         32 |   168,451 \n",
      "      1985 |   166,619      4,958         37 |   171,614 \n",
      "      1986 |   164,392      5,844         30 |   170,266 \n",
      "      1987 |   164,413      6,809         25 |   171,247 \n",
      "      1988 |   156,560      7,591         23 |   164,174 \n",
      "      1989 |   166,790        822          0 |   167,612 \n",
      "      1990 |   175,175      1,080          0 |   176,255 \n",
      "      1991 |   170,053      1,243          0 |   171,296 \n",
      "      1992 |   167,648      1,312          0 |   168,960 \n",
      "      1993 |   165,307      1,407          0 |   166,714 \n",
      "      1994 |   160,220      2,039        486 |   162,745 \n",
      "      1995 |   159,620      2,222        419 |   162,261 \n",
      "      1996 |   142,419      2,027        357 |   144,803 \n",
      "      1997 |   144,736      2,476        328 |   147,540 \n",
      "      1998 |   148,023        947        308 |   149,278 \n",
      "      1999 |   150,062      1,078        331 |   151,471 \n",
      "      2000 |   151,549      1,233        293 |   153,075 \n",
      "      2001 |   166,003      1,528        320 |   167,851 \n",
      "      2002 |   172,928      1,779        331 |   175,038 \n",
      "      2003 |   169,768      1,811        282 |   171,861 \n",
      "      2004 |   166,609      1,971        294 |   168,874 \n",
      "      2005 |   167,381      2,211        335 |   169,927 \n",
      "      2006 |   166,335      2,534        327 |   169,196 \n",
      "      2007 |   164,240      2,856        355 |   167,451 \n",
      "      2008 |   161,821      3,242        291 |   165,354 \n",
      "      2009 |   156,877      3,333        355 |   160,565 \n",
      "      2010 |   155,072      3,541        300 |   158,913 \n",
      "      2011 |   153,265      3,599        278 |   157,142 \n",
      "      2012 |   152,117      4,055        220 |   156,392 \n",
      "      2013 |   151,105      4,384        226 |   155,715 \n",
      "      2014 |   151,782      4,473        256 |   156,511 \n",
      "      2015 |   149,345      4,874        266 |   154,485 \n",
      "      2016 |   148,939      5,230        298 |   154,467 \n",
      "      2017 |   146,353      5,467        254 |   152,074 \n",
      "      2018 |   141,852      6,133        212 |   148,197 \n",
      "      2019 |   136,283      6,448        164 |   142,895 \n",
      "      2020 |   106,277      6,108        143 |   112,528 \n",
      "-----------+---------------------------------+----------\n",
      "     Total | 6,128,404    128,380      8,239 | 6,265,023 \n"
     ]
    }
   ],
   "source": [
    "tab year topcode_earnweek, missing"
   ]
  },
  {
   "cell_type": "markdown",
   "metadata": {},
   "source": [
    "Based on frequency, we notice that it was in year 1988 were top coding was more common"
   ]
  },
  {
   "cell_type": "code",
   "execution_count": 30,
   "metadata": {},
   "outputs": [
    {
     "name": "stdout",
     "output_type": "stream",
     "text": [
      "file ../Data/cps.dta saved\n"
     ]
    }
   ],
   "source": [
    "save \"../Data/cps\", replace"
   ]
  },
  {
   "cell_type": "code",
   "execution_count": 31,
   "metadata": {},
   "outputs": [
    {
     "name": "stdout",
     "output_type": "stream",
     "text": [
      "\n",
      "survey year |      Freq.     Percent        Cum.\n",
      "------------+-----------------------------------\n",
      "       1982 |    166,650        2.66        2.66\n",
      "       1983 |    165,175        2.64        5.30\n",
      "       1984 |    168,451        2.69        7.99\n",
      "       1985 |    171,614        2.74       10.72\n",
      "       1986 |    170,266        2.72       13.44\n",
      "       1987 |    171,247        2.73       16.18\n",
      "       1988 |    164,174        2.62       18.80\n",
      "       1989 |    167,612        2.68       21.47\n",
      "       1990 |    176,255        2.81       24.28\n",
      "       1991 |    171,296        2.73       27.02\n",
      "       1992 |    168,960        2.70       29.72\n",
      "       1993 |    166,714        2.66       32.38\n",
      "       1994 |    162,745        2.60       34.97\n",
      "       1995 |    162,261        2.59       37.56\n",
      "       1996 |    144,803        2.31       39.88\n",
      "       1997 |    147,540        2.35       42.23\n",
      "       1998 |    149,278        2.38       44.61\n",
      "       1999 |    151,471        2.42       47.03\n",
      "       2000 |    153,075        2.44       49.47\n",
      "       2001 |    167,851        2.68       52.15\n",
      "       2002 |    175,038        2.79       54.95\n",
      "       2003 |    171,861        2.74       57.69\n",
      "       2004 |    168,874        2.70       60.39\n",
      "       2005 |    169,927        2.71       63.10\n",
      "       2006 |    169,196        2.70       65.80\n",
      "       2007 |    167,451        2.67       68.47\n",
      "       2008 |    165,354        2.64       71.11\n",
      "       2009 |    160,565        2.56       73.67\n",
      "       2010 |    158,913        2.54       76.21\n",
      "       2011 |    157,142        2.51       78.72\n",
      "       2012 |    156,392        2.50       81.22\n",
      "       2013 |    155,715        2.49       83.70\n",
      "       2014 |    156,511        2.50       86.20\n",
      "       2015 |    154,485        2.47       88.66\n",
      "       2016 |    154,467        2.47       91.13\n",
      "       2017 |    152,074        2.43       93.56\n",
      "       2018 |    148,197        2.37       95.92\n",
      "       2019 |    142,895        2.28       98.20\n",
      "       2020 |    112,528        1.80      100.00\n",
      "------------+-----------------------------------\n",
      "      Total |  6,265,023      100.00\n"
     ]
    }
   ],
   "source": [
    "tab year"
   ]
  },
  {
   "cell_type": "code",
   "execution_count": null,
   "metadata": {},
   "outputs": [],
   "source": []
  }
 ],
 "metadata": {
  "kernelspec": {
   "display_name": "Stata",
   "language": "stata",
   "name": "stata"
  },
  "language_info": {
   "codemirror_mode": "stata",
   "file_extension": ".do",
   "mimetype": "text/x-stata",
   "name": "stata",
   "version": "15.1"
  }
 },
 "nbformat": 4,
 "nbformat_minor": 4
}
